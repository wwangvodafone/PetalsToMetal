{
 "cells": [
  {
   "cell_type": "code",
   "execution_count": 1,
   "id": "overhead-capital",
   "metadata": {
    "_cell_guid": "b1076dfc-b9ad-4769-8c92-a6c4dae69d19",
    "_uuid": "8f2839f25d086af736a60e9eeb907d3b93b6e0e5",
    "execution": {
     "iopub.execute_input": "2021-03-27T11:43:17.870602Z",
     "iopub.status.busy": "2021-03-27T11:43:17.869800Z",
     "iopub.status.idle": "2021-03-27T11:43:17.965321Z",
     "shell.execute_reply": "2021-03-27T11:43:17.966167Z"
    },
    "papermill": {
     "duration": 0.113954,
     "end_time": "2021-03-27T11:43:17.966601",
     "exception": false,
     "start_time": "2021-03-27T11:43:17.852647",
     "status": "completed"
    },
    "tags": []
   },
   "outputs": [
    {
     "name": "stdout",
     "output_type": "stream",
     "text": [
      "/kaggle/input/tpu-getting-started/sample_submission.csv\n",
      "/kaggle/input/tpu-getting-started/tfrecords-jpeg-224x224/val/09-224x224-232.tfrec\n",
      "/kaggle/input/tpu-getting-started/tfrecords-jpeg-224x224/val/14-224x224-232.tfrec\n",
      "/kaggle/input/tpu-getting-started/tfrecords-jpeg-224x224/val/01-224x224-232.tfrec\n",
      "/kaggle/input/tpu-getting-started/tfrecords-jpeg-224x224/val/13-224x224-232.tfrec\n",
      "/kaggle/input/tpu-getting-started/tfrecords-jpeg-224x224/val/00-224x224-232.tfrec\n",
      "/kaggle/input/tpu-getting-started/tfrecords-jpeg-224x224/val/07-224x224-232.tfrec\n",
      "/kaggle/input/tpu-getting-started/tfrecords-jpeg-224x224/val/12-224x224-232.tfrec\n",
      "/kaggle/input/tpu-getting-started/tfrecords-jpeg-224x224/val/11-224x224-232.tfrec\n",
      "/kaggle/input/tpu-getting-started/tfrecords-jpeg-224x224/val/05-224x224-232.tfrec\n",
      "/kaggle/input/tpu-getting-started/tfrecords-jpeg-224x224/val/04-224x224-232.tfrec\n",
      "/kaggle/input/tpu-getting-started/tfrecords-jpeg-224x224/val/15-224x224-232.tfrec\n",
      "/kaggle/input/tpu-getting-started/tfrecords-jpeg-224x224/val/06-224x224-232.tfrec\n",
      "/kaggle/input/tpu-getting-started/tfrecords-jpeg-224x224/val/02-224x224-232.tfrec\n",
      "/kaggle/input/tpu-getting-started/tfrecords-jpeg-224x224/val/03-224x224-232.tfrec\n",
      "/kaggle/input/tpu-getting-started/tfrecords-jpeg-224x224/val/08-224x224-232.tfrec\n",
      "/kaggle/input/tpu-getting-started/tfrecords-jpeg-224x224/val/10-224x224-232.tfrec\n",
      "/kaggle/input/tpu-getting-started/tfrecords-jpeg-224x224/test/04-224x224-462.tfrec\n",
      "/kaggle/input/tpu-getting-started/tfrecords-jpeg-224x224/test/06-224x224-462.tfrec\n",
      "/kaggle/input/tpu-getting-started/tfrecords-jpeg-224x224/test/05-224x224-462.tfrec\n",
      "/kaggle/input/tpu-getting-started/tfrecords-jpeg-224x224/test/08-224x224-462.tfrec\n",
      "/kaggle/input/tpu-getting-started/tfrecords-jpeg-224x224/test/15-224x224-452.tfrec\n",
      "/kaggle/input/tpu-getting-started/tfrecords-jpeg-224x224/test/09-224x224-462.tfrec\n",
      "/kaggle/input/tpu-getting-started/tfrecords-jpeg-224x224/test/10-224x224-462.tfrec\n",
      "/kaggle/input/tpu-getting-started/tfrecords-jpeg-224x224/test/07-224x224-462.tfrec\n",
      "/kaggle/input/tpu-getting-started/tfrecords-jpeg-224x224/test/00-224x224-462.tfrec\n",
      "/kaggle/input/tpu-getting-started/tfrecords-jpeg-224x224/test/01-224x224-462.tfrec\n",
      "/kaggle/input/tpu-getting-started/tfrecords-jpeg-224x224/test/12-224x224-462.tfrec\n",
      "/kaggle/input/tpu-getting-started/tfrecords-jpeg-224x224/test/14-224x224-462.tfrec\n",
      "/kaggle/input/tpu-getting-started/tfrecords-jpeg-224x224/test/03-224x224-462.tfrec\n",
      "/kaggle/input/tpu-getting-started/tfrecords-jpeg-224x224/test/02-224x224-462.tfrec\n",
      "/kaggle/input/tpu-getting-started/tfrecords-jpeg-224x224/test/11-224x224-462.tfrec\n",
      "/kaggle/input/tpu-getting-started/tfrecords-jpeg-224x224/test/13-224x224-462.tfrec\n",
      "/kaggle/input/tpu-getting-started/tfrecords-jpeg-224x224/train/13-224x224-798.tfrec\n",
      "/kaggle/input/tpu-getting-started/tfrecords-jpeg-224x224/train/11-224x224-798.tfrec\n",
      "/kaggle/input/tpu-getting-started/tfrecords-jpeg-224x224/train/05-224x224-798.tfrec\n",
      "/kaggle/input/tpu-getting-started/tfrecords-jpeg-224x224/train/00-224x224-798.tfrec\n",
      "/kaggle/input/tpu-getting-started/tfrecords-jpeg-224x224/train/02-224x224-798.tfrec\n",
      "/kaggle/input/tpu-getting-started/tfrecords-jpeg-224x224/train/14-224x224-798.tfrec\n",
      "/kaggle/input/tpu-getting-started/tfrecords-jpeg-224x224/train/06-224x224-798.tfrec\n",
      "/kaggle/input/tpu-getting-started/tfrecords-jpeg-224x224/train/10-224x224-798.tfrec\n",
      "/kaggle/input/tpu-getting-started/tfrecords-jpeg-224x224/train/01-224x224-798.tfrec\n",
      "/kaggle/input/tpu-getting-started/tfrecords-jpeg-224x224/train/03-224x224-798.tfrec\n",
      "/kaggle/input/tpu-getting-started/tfrecords-jpeg-224x224/train/08-224x224-798.tfrec\n",
      "/kaggle/input/tpu-getting-started/tfrecords-jpeg-224x224/train/09-224x224-798.tfrec\n",
      "/kaggle/input/tpu-getting-started/tfrecords-jpeg-224x224/train/15-224x224-783.tfrec\n",
      "/kaggle/input/tpu-getting-started/tfrecords-jpeg-224x224/train/07-224x224-798.tfrec\n",
      "/kaggle/input/tpu-getting-started/tfrecords-jpeg-224x224/train/04-224x224-798.tfrec\n",
      "/kaggle/input/tpu-getting-started/tfrecords-jpeg-224x224/train/12-224x224-798.tfrec\n",
      "/kaggle/input/tpu-getting-started/tfrecords-jpeg-331x331/val/05-331x331-232.tfrec\n",
      "/kaggle/input/tpu-getting-started/tfrecords-jpeg-331x331/val/08-331x331-232.tfrec\n",
      "/kaggle/input/tpu-getting-started/tfrecords-jpeg-331x331/val/01-331x331-232.tfrec\n",
      "/kaggle/input/tpu-getting-started/tfrecords-jpeg-331x331/val/03-331x331-232.tfrec\n",
      "/kaggle/input/tpu-getting-started/tfrecords-jpeg-331x331/val/13-331x331-232.tfrec\n",
      "/kaggle/input/tpu-getting-started/tfrecords-jpeg-331x331/val/10-331x331-232.tfrec\n",
      "/kaggle/input/tpu-getting-started/tfrecords-jpeg-331x331/val/07-331x331-232.tfrec\n",
      "/kaggle/input/tpu-getting-started/tfrecords-jpeg-331x331/val/04-331x331-232.tfrec\n",
      "/kaggle/input/tpu-getting-started/tfrecords-jpeg-331x331/val/14-331x331-232.tfrec\n",
      "/kaggle/input/tpu-getting-started/tfrecords-jpeg-331x331/val/15-331x331-232.tfrec\n",
      "/kaggle/input/tpu-getting-started/tfrecords-jpeg-331x331/val/12-331x331-232.tfrec\n",
      "/kaggle/input/tpu-getting-started/tfrecords-jpeg-331x331/val/11-331x331-232.tfrec\n",
      "/kaggle/input/tpu-getting-started/tfrecords-jpeg-331x331/val/02-331x331-232.tfrec\n",
      "/kaggle/input/tpu-getting-started/tfrecords-jpeg-331x331/val/00-331x331-232.tfrec\n",
      "/kaggle/input/tpu-getting-started/tfrecords-jpeg-331x331/val/06-331x331-232.tfrec\n",
      "/kaggle/input/tpu-getting-started/tfrecords-jpeg-331x331/val/09-331x331-232.tfrec\n",
      "/kaggle/input/tpu-getting-started/tfrecords-jpeg-331x331/test/14-331x331-462.tfrec\n",
      "/kaggle/input/tpu-getting-started/tfrecords-jpeg-331x331/test/13-331x331-462.tfrec\n",
      "/kaggle/input/tpu-getting-started/tfrecords-jpeg-331x331/test/03-331x331-462.tfrec\n",
      "/kaggle/input/tpu-getting-started/tfrecords-jpeg-331x331/test/05-331x331-462.tfrec\n",
      "/kaggle/input/tpu-getting-started/tfrecords-jpeg-331x331/test/09-331x331-462.tfrec\n",
      "/kaggle/input/tpu-getting-started/tfrecords-jpeg-331x331/test/04-331x331-462.tfrec\n",
      "/kaggle/input/tpu-getting-started/tfrecords-jpeg-331x331/test/01-331x331-462.tfrec\n",
      "/kaggle/input/tpu-getting-started/tfrecords-jpeg-331x331/test/11-331x331-462.tfrec\n",
      "/kaggle/input/tpu-getting-started/tfrecords-jpeg-331x331/test/07-331x331-462.tfrec\n",
      "/kaggle/input/tpu-getting-started/tfrecords-jpeg-331x331/test/08-331x331-462.tfrec\n",
      "/kaggle/input/tpu-getting-started/tfrecords-jpeg-331x331/test/00-331x331-462.tfrec\n",
      "/kaggle/input/tpu-getting-started/tfrecords-jpeg-331x331/test/02-331x331-462.tfrec\n",
      "/kaggle/input/tpu-getting-started/tfrecords-jpeg-331x331/test/15-331x331-452.tfrec\n",
      "/kaggle/input/tpu-getting-started/tfrecords-jpeg-331x331/test/10-331x331-462.tfrec\n",
      "/kaggle/input/tpu-getting-started/tfrecords-jpeg-331x331/test/12-331x331-462.tfrec\n",
      "/kaggle/input/tpu-getting-started/tfrecords-jpeg-331x331/test/06-331x331-462.tfrec\n",
      "/kaggle/input/tpu-getting-started/tfrecords-jpeg-331x331/train/15-331x331-783.tfrec\n",
      "/kaggle/input/tpu-getting-started/tfrecords-jpeg-331x331/train/02-331x331-798.tfrec\n",
      "/kaggle/input/tpu-getting-started/tfrecords-jpeg-331x331/train/14-331x331-798.tfrec\n",
      "/kaggle/input/tpu-getting-started/tfrecords-jpeg-331x331/train/04-331x331-798.tfrec\n",
      "/kaggle/input/tpu-getting-started/tfrecords-jpeg-331x331/train/08-331x331-798.tfrec\n",
      "/kaggle/input/tpu-getting-started/tfrecords-jpeg-331x331/train/12-331x331-798.tfrec\n",
      "/kaggle/input/tpu-getting-started/tfrecords-jpeg-331x331/train/03-331x331-798.tfrec\n",
      "/kaggle/input/tpu-getting-started/tfrecords-jpeg-331x331/train/05-331x331-798.tfrec\n",
      "/kaggle/input/tpu-getting-started/tfrecords-jpeg-331x331/train/00-331x331-798.tfrec\n",
      "/kaggle/input/tpu-getting-started/tfrecords-jpeg-331x331/train/06-331x331-798.tfrec\n",
      "/kaggle/input/tpu-getting-started/tfrecords-jpeg-331x331/train/07-331x331-798.tfrec\n",
      "/kaggle/input/tpu-getting-started/tfrecords-jpeg-331x331/train/09-331x331-798.tfrec\n",
      "/kaggle/input/tpu-getting-started/tfrecords-jpeg-331x331/train/10-331x331-798.tfrec\n",
      "/kaggle/input/tpu-getting-started/tfrecords-jpeg-331x331/train/01-331x331-798.tfrec\n",
      "/kaggle/input/tpu-getting-started/tfrecords-jpeg-331x331/train/13-331x331-798.tfrec\n",
      "/kaggle/input/tpu-getting-started/tfrecords-jpeg-331x331/train/11-331x331-798.tfrec\n",
      "/kaggle/input/tpu-getting-started/tfrecords-jpeg-192x192/val/05-192x192-232.tfrec\n",
      "/kaggle/input/tpu-getting-started/tfrecords-jpeg-192x192/val/07-192x192-232.tfrec\n",
      "/kaggle/input/tpu-getting-started/tfrecords-jpeg-192x192/val/15-192x192-232.tfrec\n",
      "/kaggle/input/tpu-getting-started/tfrecords-jpeg-192x192/val/08-192x192-232.tfrec\n",
      "/kaggle/input/tpu-getting-started/tfrecords-jpeg-192x192/val/06-192x192-232.tfrec\n",
      "/kaggle/input/tpu-getting-started/tfrecords-jpeg-192x192/val/00-192x192-232.tfrec\n",
      "/kaggle/input/tpu-getting-started/tfrecords-jpeg-192x192/val/11-192x192-232.tfrec\n",
      "/kaggle/input/tpu-getting-started/tfrecords-jpeg-192x192/val/04-192x192-232.tfrec\n",
      "/kaggle/input/tpu-getting-started/tfrecords-jpeg-192x192/val/09-192x192-232.tfrec\n",
      "/kaggle/input/tpu-getting-started/tfrecords-jpeg-192x192/val/02-192x192-232.tfrec\n",
      "/kaggle/input/tpu-getting-started/tfrecords-jpeg-192x192/val/10-192x192-232.tfrec\n",
      "/kaggle/input/tpu-getting-started/tfrecords-jpeg-192x192/val/12-192x192-232.tfrec\n",
      "/kaggle/input/tpu-getting-started/tfrecords-jpeg-192x192/val/14-192x192-232.tfrec\n",
      "/kaggle/input/tpu-getting-started/tfrecords-jpeg-192x192/val/13-192x192-232.tfrec\n",
      "/kaggle/input/tpu-getting-started/tfrecords-jpeg-192x192/val/03-192x192-232.tfrec\n",
      "/kaggle/input/tpu-getting-started/tfrecords-jpeg-192x192/val/01-192x192-232.tfrec\n",
      "/kaggle/input/tpu-getting-started/tfrecords-jpeg-192x192/test/06-192x192-462.tfrec\n",
      "/kaggle/input/tpu-getting-started/tfrecords-jpeg-192x192/test/12-192x192-462.tfrec\n",
      "/kaggle/input/tpu-getting-started/tfrecords-jpeg-192x192/test/08-192x192-462.tfrec\n",
      "/kaggle/input/tpu-getting-started/tfrecords-jpeg-192x192/test/07-192x192-462.tfrec\n",
      "/kaggle/input/tpu-getting-started/tfrecords-jpeg-192x192/test/00-192x192-462.tfrec\n",
      "/kaggle/input/tpu-getting-started/tfrecords-jpeg-192x192/test/03-192x192-462.tfrec\n",
      "/kaggle/input/tpu-getting-started/tfrecords-jpeg-192x192/test/13-192x192-462.tfrec\n",
      "/kaggle/input/tpu-getting-started/tfrecords-jpeg-192x192/test/05-192x192-462.tfrec\n",
      "/kaggle/input/tpu-getting-started/tfrecords-jpeg-192x192/test/01-192x192-462.tfrec\n",
      "/kaggle/input/tpu-getting-started/tfrecords-jpeg-192x192/test/14-192x192-462.tfrec\n",
      "/kaggle/input/tpu-getting-started/tfrecords-jpeg-192x192/test/10-192x192-462.tfrec\n",
      "/kaggle/input/tpu-getting-started/tfrecords-jpeg-192x192/test/04-192x192-462.tfrec\n",
      "/kaggle/input/tpu-getting-started/tfrecords-jpeg-192x192/test/15-192x192-452.tfrec\n",
      "/kaggle/input/tpu-getting-started/tfrecords-jpeg-192x192/test/09-192x192-462.tfrec\n",
      "/kaggle/input/tpu-getting-started/tfrecords-jpeg-192x192/test/11-192x192-462.tfrec\n",
      "/kaggle/input/tpu-getting-started/tfrecords-jpeg-192x192/test/02-192x192-462.tfrec\n",
      "/kaggle/input/tpu-getting-started/tfrecords-jpeg-192x192/train/06-192x192-798.tfrec\n",
      "/kaggle/input/tpu-getting-started/tfrecords-jpeg-192x192/train/11-192x192-798.tfrec\n",
      "/kaggle/input/tpu-getting-started/tfrecords-jpeg-192x192/train/12-192x192-798.tfrec\n",
      "/kaggle/input/tpu-getting-started/tfrecords-jpeg-192x192/train/03-192x192-798.tfrec\n",
      "/kaggle/input/tpu-getting-started/tfrecords-jpeg-192x192/train/09-192x192-798.tfrec\n",
      "/kaggle/input/tpu-getting-started/tfrecords-jpeg-192x192/train/08-192x192-798.tfrec\n",
      "/kaggle/input/tpu-getting-started/tfrecords-jpeg-192x192/train/04-192x192-798.tfrec\n",
      "/kaggle/input/tpu-getting-started/tfrecords-jpeg-192x192/train/05-192x192-798.tfrec\n",
      "/kaggle/input/tpu-getting-started/tfrecords-jpeg-192x192/train/14-192x192-798.tfrec\n",
      "/kaggle/input/tpu-getting-started/tfrecords-jpeg-192x192/train/07-192x192-798.tfrec\n",
      "/kaggle/input/tpu-getting-started/tfrecords-jpeg-192x192/train/13-192x192-798.tfrec\n",
      "/kaggle/input/tpu-getting-started/tfrecords-jpeg-192x192/train/15-192x192-783.tfrec\n",
      "/kaggle/input/tpu-getting-started/tfrecords-jpeg-192x192/train/02-192x192-798.tfrec\n",
      "/kaggle/input/tpu-getting-started/tfrecords-jpeg-192x192/train/10-192x192-798.tfrec\n",
      "/kaggle/input/tpu-getting-started/tfrecords-jpeg-192x192/train/01-192x192-798.tfrec\n",
      "/kaggle/input/tpu-getting-started/tfrecords-jpeg-192x192/train/00-192x192-798.tfrec\n",
      "/kaggle/input/tpu-getting-started/tfrecords-jpeg-512x512/val/02-512x512-232.tfrec\n",
      "/kaggle/input/tpu-getting-started/tfrecords-jpeg-512x512/val/12-512x512-232.tfrec\n",
      "/kaggle/input/tpu-getting-started/tfrecords-jpeg-512x512/val/09-512x512-232.tfrec\n",
      "/kaggle/input/tpu-getting-started/tfrecords-jpeg-512x512/val/00-512x512-232.tfrec\n",
      "/kaggle/input/tpu-getting-started/tfrecords-jpeg-512x512/val/13-512x512-232.tfrec\n",
      "/kaggle/input/tpu-getting-started/tfrecords-jpeg-512x512/val/03-512x512-232.tfrec\n",
      "/kaggle/input/tpu-getting-started/tfrecords-jpeg-512x512/val/14-512x512-232.tfrec\n",
      "/kaggle/input/tpu-getting-started/tfrecords-jpeg-512x512/val/04-512x512-232.tfrec\n",
      "/kaggle/input/tpu-getting-started/tfrecords-jpeg-512x512/val/10-512x512-232.tfrec\n",
      "/kaggle/input/tpu-getting-started/tfrecords-jpeg-512x512/val/05-512x512-232.tfrec\n",
      "/kaggle/input/tpu-getting-started/tfrecords-jpeg-512x512/val/08-512x512-232.tfrec\n",
      "/kaggle/input/tpu-getting-started/tfrecords-jpeg-512x512/val/11-512x512-232.tfrec\n",
      "/kaggle/input/tpu-getting-started/tfrecords-jpeg-512x512/val/07-512x512-232.tfrec\n",
      "/kaggle/input/tpu-getting-started/tfrecords-jpeg-512x512/val/15-512x512-232.tfrec\n",
      "/kaggle/input/tpu-getting-started/tfrecords-jpeg-512x512/val/01-512x512-232.tfrec\n",
      "/kaggle/input/tpu-getting-started/tfrecords-jpeg-512x512/val/06-512x512-232.tfrec\n",
      "/kaggle/input/tpu-getting-started/tfrecords-jpeg-512x512/test/15-512x512-452.tfrec\n",
      "/kaggle/input/tpu-getting-started/tfrecords-jpeg-512x512/test/02-512x512-462.tfrec\n",
      "/kaggle/input/tpu-getting-started/tfrecords-jpeg-512x512/test/03-512x512-462.tfrec\n",
      "/kaggle/input/tpu-getting-started/tfrecords-jpeg-512x512/test/01-512x512-462.tfrec\n",
      "/kaggle/input/tpu-getting-started/tfrecords-jpeg-512x512/test/00-512x512-462.tfrec\n",
      "/kaggle/input/tpu-getting-started/tfrecords-jpeg-512x512/test/13-512x512-462.tfrec\n",
      "/kaggle/input/tpu-getting-started/tfrecords-jpeg-512x512/test/07-512x512-462.tfrec\n",
      "/kaggle/input/tpu-getting-started/tfrecords-jpeg-512x512/test/10-512x512-462.tfrec\n",
      "/kaggle/input/tpu-getting-started/tfrecords-jpeg-512x512/test/04-512x512-462.tfrec\n",
      "/kaggle/input/tpu-getting-started/tfrecords-jpeg-512x512/test/14-512x512-462.tfrec\n",
      "/kaggle/input/tpu-getting-started/tfrecords-jpeg-512x512/test/09-512x512-462.tfrec\n",
      "/kaggle/input/tpu-getting-started/tfrecords-jpeg-512x512/test/08-512x512-462.tfrec\n",
      "/kaggle/input/tpu-getting-started/tfrecords-jpeg-512x512/test/11-512x512-462.tfrec\n",
      "/kaggle/input/tpu-getting-started/tfrecords-jpeg-512x512/test/05-512x512-462.tfrec\n",
      "/kaggle/input/tpu-getting-started/tfrecords-jpeg-512x512/test/06-512x512-462.tfrec\n",
      "/kaggle/input/tpu-getting-started/tfrecords-jpeg-512x512/test/12-512x512-462.tfrec\n",
      "/kaggle/input/tpu-getting-started/tfrecords-jpeg-512x512/train/05-512x512-798.tfrec\n",
      "/kaggle/input/tpu-getting-started/tfrecords-jpeg-512x512/train/00-512x512-798.tfrec\n",
      "/kaggle/input/tpu-getting-started/tfrecords-jpeg-512x512/train/11-512x512-798.tfrec\n",
      "/kaggle/input/tpu-getting-started/tfrecords-jpeg-512x512/train/15-512x512-783.tfrec\n",
      "/kaggle/input/tpu-getting-started/tfrecords-jpeg-512x512/train/10-512x512-798.tfrec\n",
      "/kaggle/input/tpu-getting-started/tfrecords-jpeg-512x512/train/12-512x512-798.tfrec\n",
      "/kaggle/input/tpu-getting-started/tfrecords-jpeg-512x512/train/01-512x512-798.tfrec\n",
      "/kaggle/input/tpu-getting-started/tfrecords-jpeg-512x512/train/14-512x512-798.tfrec\n",
      "/kaggle/input/tpu-getting-started/tfrecords-jpeg-512x512/train/13-512x512-798.tfrec\n",
      "/kaggle/input/tpu-getting-started/tfrecords-jpeg-512x512/train/07-512x512-798.tfrec\n",
      "/kaggle/input/tpu-getting-started/tfrecords-jpeg-512x512/train/03-512x512-798.tfrec\n",
      "/kaggle/input/tpu-getting-started/tfrecords-jpeg-512x512/train/06-512x512-798.tfrec\n",
      "/kaggle/input/tpu-getting-started/tfrecords-jpeg-512x512/train/08-512x512-798.tfrec\n",
      "/kaggle/input/tpu-getting-started/tfrecords-jpeg-512x512/train/02-512x512-798.tfrec\n",
      "/kaggle/input/tpu-getting-started/tfrecords-jpeg-512x512/train/09-512x512-798.tfrec\n",
      "/kaggle/input/tpu-getting-started/tfrecords-jpeg-512x512/train/04-512x512-798.tfrec\n"
     ]
    }
   ],
   "source": [
    "# This Python 3 environment comes with many helpful analytics libraries installed\n",
    "# It is defined by the kaggle/python Docker image: https://github.com/kaggle/docker-python\n",
    "# For example, here's several helpful packages to load\n",
    "\n",
    "import numpy as np # linear algebra\n",
    "import pandas as pd # data processing, CSV file I/O (e.g. pd.read_csv)\n",
    "\n",
    "# Input data files are available in the read-only \"../input/\" directory\n",
    "# For example, running this (by clicking run or pressing Shift+Enter) will list all files under the input directory\n",
    "\n",
    "import os\n",
    "for dirname, _, filenames in os.walk('/kaggle/input'):\n",
    "    for filename in filenames:\n",
    "        print(os.path.join(dirname, filename))\n",
    "\n",
    "# You can write up to 20GB to the current directory (/kaggle/working/) that gets preserved as output when you create a version using \"Save & Run All\" \n",
    "# You can also write temporary files to /kaggle/temp/, but they won't be saved outside of the current session"
   ]
  },
  {
   "cell_type": "code",
   "execution_count": 2,
   "id": "alike-stable",
   "metadata": {
    "execution": {
     "iopub.execute_input": "2021-03-27T11:43:17.995431Z",
     "iopub.status.busy": "2021-03-27T11:43:17.994699Z",
     "iopub.status.idle": "2021-03-27T11:43:24.927122Z",
     "shell.execute_reply": "2021-03-27T11:43:24.927692Z"
    },
    "papermill": {
     "duration": 6.949344,
     "end_time": "2021-03-27T11:43:24.927887",
     "exception": false,
     "start_time": "2021-03-27T11:43:17.978543",
     "status": "completed"
    },
    "tags": []
   },
   "outputs": [],
   "source": [
    "import tensorflow as tf\n",
    "from kaggle_datasets import KaggleDatasets\n",
    "import math, os, re, warnings\n",
    "import numpy as np\n",
    "import pandas as pd\n",
    "import seaborn as sns"
   ]
  },
  {
   "cell_type": "code",
   "execution_count": 3,
   "id": "junior-rhythm",
   "metadata": {
    "execution": {
     "iopub.execute_input": "2021-03-27T11:43:24.953357Z",
     "iopub.status.busy": "2021-03-27T11:43:24.952726Z",
     "iopub.status.idle": "2021-03-27T11:43:30.506204Z",
     "shell.execute_reply": "2021-03-27T11:43:30.505631Z"
    },
    "papermill": {
     "duration": 5.567152,
     "end_time": "2021-03-27T11:43:30.506347",
     "exception": false,
     "start_time": "2021-03-27T11:43:24.939195",
     "status": "completed"
    },
    "tags": []
   },
   "outputs": [
    {
     "name": "stdout",
     "output_type": "stream",
     "text": [
      "Running on TPU  grpc://10.0.0.2:8470\n",
      "REPLICAS:  8\n"
     ]
    }
   ],
   "source": [
    "# Detect hardware, return appropriate distribution strategy\n",
    "try:\n",
    "    tpu = tf.distribute.cluster_resolver.TPUClusterResolver()  # TPU detection. No parameters necessary if TPU_NAME environment variable is set. On Kaggle this is always the case.\n",
    "    print('Running on TPU ', tpu.master())\n",
    "except ValueError:\n",
    "    tpu = None\n",
    "\n",
    "if tpu:\n",
    "    tf.config.experimental_connect_to_cluster(tpu)\n",
    "    tf.tpu.experimental.initialize_tpu_system(tpu)\n",
    "    strategy = tf.distribute.experimental.TPUStrategy(tpu)\n",
    "else:\n",
    "    strategy = tf.distribute.get_strategy() # default distribution strategy in Tensorflow. Works on CPU and single GPU.\n",
    "\n",
    "print(\"REPLICAS: \", strategy.num_replicas_in_sync)"
   ]
  },
  {
   "cell_type": "code",
   "execution_count": 4,
   "id": "innovative-leonard",
   "metadata": {
    "execution": {
     "iopub.execute_input": "2021-03-27T11:43:30.546257Z",
     "iopub.status.busy": "2021-03-27T11:43:30.545424Z",
     "iopub.status.idle": "2021-03-27T11:43:30.872538Z",
     "shell.execute_reply": "2021-03-27T11:43:30.871218Z"
    },
    "papermill": {
     "duration": 0.354468,
     "end_time": "2021-03-27T11:43:30.872811",
     "exception": false,
     "start_time": "2021-03-27T11:43:30.518343",
     "status": "completed"
    },
    "tags": []
   },
   "outputs": [],
   "source": [
    "GCS_DS_PATH = KaggleDatasets().get_gcs_path()"
   ]
  },
  {
   "cell_type": "code",
   "execution_count": 5,
   "id": "atlantic-strand",
   "metadata": {
    "execution": {
     "iopub.execute_input": "2021-03-27T11:43:30.918775Z",
     "iopub.status.busy": "2021-03-27T11:43:30.917885Z",
     "iopub.status.idle": "2021-03-27T11:43:31.128710Z",
     "shell.execute_reply": "2021-03-27T11:43:31.128145Z"
    },
    "papermill": {
     "duration": 0.234374,
     "end_time": "2021-03-27T11:43:31.128855",
     "exception": false,
     "start_time": "2021-03-27T11:43:30.894481",
     "status": "completed"
    },
    "tags": []
   },
   "outputs": [
    {
     "name": "stdout",
     "output_type": "stream",
     "text": [
      "797\n"
     ]
    }
   ],
   "source": [
    "IMAGE_SIZE = [224, 224] # at this size, a GPU will run out of memory. Use the TPU\n",
    "EPOCHS = 50\n",
    "#BATCH_SIZE = 16 * strategy.num_replicas_in_sync\n",
    "BATCH_SIZE = 16\n",
    "AUTO = tf.data.experimental.AUTOTUNE\n",
    "NUM_TRAINING_IMAGES = 12753\n",
    "NUM_TEST_IMAGES = 7382\n",
    "STEPS_PER_EPOCH = NUM_TRAINING_IMAGES // BATCH_SIZE\n",
    "TRAIN_FILENAMES = tf.io.gfile.glob(GCS_DS_PATH + '/tfrecords-jpeg-224x224/train/*.tfrec')\n",
    "VAL_FILENAMES = tf.io.gfile.glob(GCS_DS_PATH + '/tfrecords-jpeg-224x224/val/*.tfrec')                                   \n",
    "TEST_FILENAMES = tf.io.gfile.glob(GCS_DS_PATH + '/tfrecords-jpeg-224x224/test/*.tfrec')\n",
    "print(STEPS_PER_EPOCH)"
   ]
  },
  {
   "cell_type": "code",
   "execution_count": 6,
   "id": "phantom-class",
   "metadata": {
    "execution": {
     "iopub.execute_input": "2021-03-27T11:43:31.172520Z",
     "iopub.status.busy": "2021-03-27T11:43:31.171491Z",
     "iopub.status.idle": "2021-03-27T11:43:31.174883Z",
     "shell.execute_reply": "2021-03-27T11:43:31.174392Z"
    },
    "papermill": {
     "duration": 0.03363,
     "end_time": "2021-03-27T11:43:31.175035",
     "exception": false,
     "start_time": "2021-03-27T11:43:31.141405",
     "status": "completed"
    },
    "tags": []
   },
   "outputs": [],
   "source": [
    "def decode_image(image_data):\n",
    "    image = tf.image.decode_jpeg(image_data, channels=3)\n",
    "    image = tf.cast(image, tf.float32) / 255.0  # convert image to floats in [0, 1] range\n",
    "    image = tf.reshape(image, [*IMAGE_SIZE, 3]) # explicit size needed for TPU\n",
    "    return image\n",
    "\n",
    "def read_labeled_tfrecord(example):\n",
    "    LABELED_TFREC_FORMAT = {\n",
    "        \"image\": tf.io.FixedLenFeature([], tf.string), # tf.string means bytestring\n",
    "        \"class\": tf.io.FixedLenFeature([], tf.int64),  # shape [] means single element\n",
    "    }\n",
    "    example = tf.io.parse_single_example(example, LABELED_TFREC_FORMAT)\n",
    "    image = decode_image(example['image'])\n",
    "    label = tf.cast(example['class'], tf.int32)\n",
    "    return image, label # returns a dataset of (image, label) pairs\n",
    "\n",
    "def read_unlabeled_tfrecord(example):\n",
    "    UNLABELED_TFREC_FORMAT = {\n",
    "        \"image\": tf.io.FixedLenFeature([], tf.string), # tf.string means bytestring\n",
    "        \"id\": tf.io.FixedLenFeature([], tf.string),  # shape [] means single element\n",
    "        # class is missing, this competitions's challenge is to predict flower classes for the test dataset\n",
    "    }\n",
    "    example = tf.io.parse_single_example(example, UNLABELED_TFREC_FORMAT)\n",
    "    image = decode_image(example['image'])\n",
    "    idnum = example['id']\n",
    "    return image, idnum # returns a dataset of image(s)\n",
    "\n",
    "def data_augment(image, label):\n",
    "    # data augmentation. Thanks to the dataset.prefetch(AUTO) statement in the next function (below),\n",
    "    # this happens essentially for free on TPU. Data pipeline code is executed on the \"CPU\" part\n",
    "    # of the TPU while the TPU itself is computing gradients.\n",
    "    image = tf.image.random_flip_left_right(image)\n",
    "    image = random_blockout(image)\n",
    "    image = transform(image)\n",
    "    return image, label   \n",
    "\n",
    "def load_dataset(filenames, labeled=True, ordered=False):\n",
    "    # Read from TFRecords. For optimal performance, reading from multiple files at once and\n",
    "    # disregarding data order. Order does not matter since we will be shuffling the data anyway.\n",
    "\n",
    "    ignore_order = tf.data.Options()\n",
    "    if not ordered:\n",
    "        ignore_order.experimental_deterministic = False # disable order, increase speed\n",
    "\n",
    "    dataset = tf.data.TFRecordDataset(filenames, num_parallel_reads=AUTO) # automatically interleaves reads from multiple files\n",
    "    dataset = dataset.with_options(ignore_order) # uses data as soon as it streams in, rather than in its original order\n",
    "    dataset = dataset.map(read_labeled_tfrecord if labeled else read_unlabeled_tfrecord, num_parallel_calls=AUTO)\n",
    "    # returns a dataset of (image, label) pairs if labeled=True or (image, id) pairs if labeled=False\n",
    "    return dataset\n",
    "\n",
    "def get_training_dataset():\n",
    "    dataset = load_dataset(TRAIN_FILENAMES, labeled=True)\n",
    "    #dataset = dataset.map(data_augment, num_parallel_calls=AUTO)\n",
    "    dataset = dataset.repeat() # the training dataset must repeat for several epochs\n",
    "    dataset = dataset.shuffle(2048)\n",
    "    dataset = dataset.batch(BATCH_SIZE)\n",
    "    dataset = dataset.prefetch(AUTO)\n",
    "    return dataset\n",
    "\n",
    "def get_validation_dataset():\n",
    "    dataset = load_dataset(VAL_FILENAMES, labeled=True, ordered=False)\n",
    "    dataset = dataset.batch(BATCH_SIZE)\n",
    "    dataset = dataset.cache()\n",
    "    dataset = dataset.prefetch(AUTO)\n",
    "    return dataset\n",
    "\n",
    "def get_test_dataset(ordered=False):\n",
    "    dataset = load_dataset(TEST_FILENAMES, labeled=False, ordered=ordered)\n",
    "    dataset = dataset.batch(BATCH_SIZE)\n",
    "    dataset = dataset.prefetch(AUTO)\n",
    "    return dataset\n",
    "\n",
    "def count_data_items(filenames):\n",
    "    # the number of data items is written in the name of the .tfrec files, i.e. flowers00-230.tfrec = 230 data items\n",
    "    n = [int(re.compile(r\"-([0-9]*)\\.\").search(filename).group(1)) for filename in filenames]\n",
    "    return np.sum(n)\n"
   ]
  },
  {
   "cell_type": "code",
   "execution_count": 7,
   "id": "caring-exchange",
   "metadata": {
    "execution": {
     "iopub.execute_input": "2021-03-27T11:43:31.203941Z",
     "iopub.status.busy": "2021-03-27T11:43:31.203337Z",
     "iopub.status.idle": "2021-03-27T11:43:36.842120Z",
     "shell.execute_reply": "2021-03-27T11:43:36.841451Z"
    },
    "papermill": {
     "duration": 5.654644,
     "end_time": "2021-03-27T11:43:36.842259",
     "exception": false,
     "start_time": "2021-03-27T11:43:31.187615",
     "status": "completed"
    },
    "tags": []
   },
   "outputs": [
    {
     "name": "stdout",
     "output_type": "stream",
     "text": [
      "Number of training images 12753\n"
     ]
    }
   ],
   "source": [
    "NUM_TRAINING_IMAGES = count_data_items(TRAIN_FILENAMES)\n",
    "training_dataset = get_training_dataset()\n",
    "y_train = next(iter(training_dataset.unbatch().map(lambda image, label: label).batch(NUM_TRAINING_IMAGES))).numpy()\n",
    "print('Number of training images %d' % NUM_TRAINING_IMAGES)"
   ]
  },
  {
   "cell_type": "code",
   "execution_count": 8,
   "id": "worst-steal",
   "metadata": {
    "execution": {
     "iopub.execute_input": "2021-03-27T11:43:36.876259Z",
     "iopub.status.busy": "2021-03-27T11:43:36.875358Z",
     "iopub.status.idle": "2021-03-27T11:43:38.851765Z",
     "shell.execute_reply": "2021-03-27T11:43:38.850989Z"
    },
    "papermill": {
     "duration": 1.99653,
     "end_time": "2021-03-27T11:43:38.851911",
     "exception": false,
     "start_time": "2021-03-27T11:43:36.855381",
     "status": "completed"
    },
    "tags": []
   },
   "outputs": [
    {
     "name": "stdout",
     "output_type": "stream",
     "text": [
      "Number of training images 3712\n"
     ]
    }
   ],
   "source": [
    "NUM_VALIDATION_IMAGES = count_data_items(VAL_FILENAMES)\n",
    "validation_dataset = get_validation_dataset()\n",
    "y_valid = next(iter(validation_dataset.unbatch().map(lambda image, label: label).batch(NUM_VALIDATION_IMAGES))).numpy()\n",
    "print('Number of training images %d' % NUM_VALIDATION_IMAGES)"
   ]
  },
  {
   "cell_type": "code",
   "execution_count": 9,
   "id": "minor-botswana",
   "metadata": {
    "execution": {
     "iopub.execute_input": "2021-03-27T11:43:38.886022Z",
     "iopub.status.busy": "2021-03-27T11:43:38.885068Z",
     "iopub.status.idle": "2021-03-27T11:43:38.980447Z",
     "shell.execute_reply": "2021-03-27T11:43:38.979817Z"
    },
    "papermill": {
     "duration": 0.114916,
     "end_time": "2021-03-27T11:43:38.980601",
     "exception": false,
     "start_time": "2021-03-27T11:43:38.865685",
     "status": "completed"
    },
    "tags": []
   },
   "outputs": [
    {
     "name": "stdout",
     "output_type": "stream",
     "text": [
      "Number of test images 7382\n"
     ]
    }
   ],
   "source": [
    "NUM_TEST_IMAGES = count_data_items(TEST_FILENAMES)\n",
    "print('Number of test images %d' % NUM_TEST_IMAGES)\n",
    "test_dataset = get_test_dataset(ordered=True)"
   ]
  },
  {
   "cell_type": "code",
   "execution_count": 10,
   "id": "downtown-disability",
   "metadata": {
    "execution": {
     "iopub.execute_input": "2021-03-27T11:43:39.022508Z",
     "iopub.status.busy": "2021-03-27T11:43:39.021770Z",
     "iopub.status.idle": "2021-03-27T12:00:48.735588Z",
     "shell.execute_reply": "2021-03-27T12:00:48.736215Z"
    },
    "papermill": {
     "duration": 1029.74087,
     "end_time": "2021-03-27T12:00:48.736508",
     "exception": false,
     "start_time": "2021-03-27T11:43:38.995638",
     "status": "completed"
    },
    "tags": []
   },
   "outputs": [
    {
     "name": "stdout",
     "output_type": "stream",
     "text": [
      "Downloading data from https://storage.googleapis.com/tensorflow/keras-applications/vgg19/vgg19_weights_tf_dim_ordering_tf_kernels_notop.h5\n",
      "80142336/80134624 [==============================] - 1s 0us/step\n",
      "Epoch 1/50\n",
      "797/797 [==============================] - 35s 33ms/step - loss: 3.9616 - sparse_categorical_accuracy: 0.1399 - val_loss: 3.1731 - val_sparse_categorical_accuracy: 0.2724\n",
      "Epoch 2/50\n",
      "797/797 [==============================] - 19s 24ms/step - loss: 3.0338 - sparse_categorical_accuracy: 0.2965 - val_loss: 2.7357 - val_sparse_categorical_accuracy: 0.3618\n",
      "Epoch 3/50\n",
      "797/797 [==============================] - 19s 24ms/step - loss: 2.6371 - sparse_categorical_accuracy: 0.3965 - val_loss: 2.4535 - val_sparse_categorical_accuracy: 0.4480\n",
      "Epoch 4/50\n",
      "797/797 [==============================] - 19s 24ms/step - loss: 2.3503 - sparse_categorical_accuracy: 0.4572 - val_loss: 2.2637 - val_sparse_categorical_accuracy: 0.4841\n",
      "Epoch 5/50\n",
      "797/797 [==============================] - 20s 25ms/step - loss: 2.1608 - sparse_categorical_accuracy: 0.4967 - val_loss: 2.1315 - val_sparse_categorical_accuracy: 0.5092\n",
      "Epoch 6/50\n",
      "797/797 [==============================] - 20s 25ms/step - loss: 2.0127 - sparse_categorical_accuracy: 0.5314 - val_loss: 2.0212 - val_sparse_categorical_accuracy: 0.5156\n",
      "Epoch 7/50\n",
      "797/797 [==============================] - 20s 25ms/step - loss: 1.8936 - sparse_categorical_accuracy: 0.5549 - val_loss: 1.9287 - val_sparse_categorical_accuracy: 0.5471\n",
      "Epoch 8/50\n",
      "797/797 [==============================] - 20s 25ms/step - loss: 1.8158 - sparse_categorical_accuracy: 0.5712 - val_loss: 1.8576 - val_sparse_categorical_accuracy: 0.5541\n",
      "Epoch 9/50\n",
      "797/797 [==============================] - 20s 25ms/step - loss: 1.7267 - sparse_categorical_accuracy: 0.5883 - val_loss: 1.8011 - val_sparse_categorical_accuracy: 0.5630\n",
      "Epoch 10/50\n",
      "797/797 [==============================] - 20s 25ms/step - loss: 1.6598 - sparse_categorical_accuracy: 0.6005 - val_loss: 1.7487 - val_sparse_categorical_accuracy: 0.5822\n",
      "Epoch 11/50\n",
      "797/797 [==============================] - 20s 25ms/step - loss: 1.5918 - sparse_categorical_accuracy: 0.6219 - val_loss: 1.7026 - val_sparse_categorical_accuracy: 0.5897\n",
      "Epoch 12/50\n",
      "797/797 [==============================] - 20s 25ms/step - loss: 1.5255 - sparse_categorical_accuracy: 0.6362 - val_loss: 1.6661 - val_sparse_categorical_accuracy: 0.5975\n",
      "Epoch 13/50\n",
      "797/797 [==============================] - 20s 25ms/step - loss: 1.4993 - sparse_categorical_accuracy: 0.6386 - val_loss: 1.6289 - val_sparse_categorical_accuracy: 0.6045\n",
      "Epoch 14/50\n",
      "797/797 [==============================] - 20s 25ms/step - loss: 1.4415 - sparse_categorical_accuracy: 0.6535 - val_loss: 1.6085 - val_sparse_categorical_accuracy: 0.6010\n",
      "Epoch 15/50\n",
      "797/797 [==============================] - 20s 25ms/step - loss: 1.3984 - sparse_categorical_accuracy: 0.6646 - val_loss: 1.5765 - val_sparse_categorical_accuracy: 0.6072\n",
      "Epoch 16/50\n",
      "797/797 [==============================] - 21s 26ms/step - loss: 1.3716 - sparse_categorical_accuracy: 0.6718 - val_loss: 1.5577 - val_sparse_categorical_accuracy: 0.6148\n",
      "Epoch 17/50\n",
      "797/797 [==============================] - 20s 25ms/step - loss: 1.3372 - sparse_categorical_accuracy: 0.6779 - val_loss: 1.5314 - val_sparse_categorical_accuracy: 0.6193\n",
      "Epoch 18/50\n",
      "797/797 [==============================] - 20s 26ms/step - loss: 1.3051 - sparse_categorical_accuracy: 0.6817 - val_loss: 1.5190 - val_sparse_categorical_accuracy: 0.6220\n",
      "Epoch 19/50\n",
      "797/797 [==============================] - 21s 26ms/step - loss: 1.2813 - sparse_categorical_accuracy: 0.6869 - val_loss: 1.4963 - val_sparse_categorical_accuracy: 0.6226\n",
      "Epoch 20/50\n",
      "797/797 [==============================] - 20s 25ms/step - loss: 1.2420 - sparse_categorical_accuracy: 0.6913 - val_loss: 1.4773 - val_sparse_categorical_accuracy: 0.6245\n",
      "Epoch 21/50\n",
      "797/797 [==============================] - 20s 25ms/step - loss: 1.2265 - sparse_categorical_accuracy: 0.6983 - val_loss: 1.4802 - val_sparse_categorical_accuracy: 0.6245\n",
      "Epoch 22/50\n",
      "797/797 [==============================] - 20s 25ms/step - loss: 1.2352 - sparse_categorical_accuracy: 0.6989 - val_loss: 1.4513 - val_sparse_categorical_accuracy: 0.6352\n",
      "Epoch 23/50\n",
      "797/797 [==============================] - 20s 25ms/step - loss: 1.1937 - sparse_categorical_accuracy: 0.7089 - val_loss: 1.4355 - val_sparse_categorical_accuracy: 0.6412\n",
      "Epoch 24/50\n",
      "797/797 [==============================] - 20s 25ms/step - loss: 1.1625 - sparse_categorical_accuracy: 0.7217 - val_loss: 1.4304 - val_sparse_categorical_accuracy: 0.6374\n",
      "Epoch 25/50\n",
      "797/797 [==============================] - 20s 25ms/step - loss: 1.1361 - sparse_categorical_accuracy: 0.7204 - val_loss: 1.4128 - val_sparse_categorical_accuracy: 0.6398\n",
      "Epoch 26/50\n",
      "797/797 [==============================] - 20s 25ms/step - loss: 1.1406 - sparse_categorical_accuracy: 0.7222 - val_loss: 1.4115 - val_sparse_categorical_accuracy: 0.6371\n",
      "Epoch 27/50\n",
      "797/797 [==============================] - 20s 25ms/step - loss: 1.1157 - sparse_categorical_accuracy: 0.7270 - val_loss: 1.3999 - val_sparse_categorical_accuracy: 0.6468\n",
      "Epoch 28/50\n",
      "797/797 [==============================] - 21s 26ms/step - loss: 1.0931 - sparse_categorical_accuracy: 0.7289 - val_loss: 1.3924 - val_sparse_categorical_accuracy: 0.6460\n",
      "Epoch 29/50\n",
      "797/797 [==============================] - 20s 26ms/step - loss: 1.0839 - sparse_categorical_accuracy: 0.7321 - val_loss: 1.3798 - val_sparse_categorical_accuracy: 0.6519\n",
      "Epoch 30/50\n",
      "797/797 [==============================] - 20s 25ms/step - loss: 1.0724 - sparse_categorical_accuracy: 0.7358 - val_loss: 1.3715 - val_sparse_categorical_accuracy: 0.6466\n",
      "Epoch 31/50\n",
      "797/797 [==============================] - 20s 26ms/step - loss: 1.0749 - sparse_categorical_accuracy: 0.7302 - val_loss: 1.3583 - val_sparse_categorical_accuracy: 0.6533\n",
      "Epoch 32/50\n",
      "797/797 [==============================] - 21s 26ms/step - loss: 1.0271 - sparse_categorical_accuracy: 0.7452 - val_loss: 1.3588 - val_sparse_categorical_accuracy: 0.6544\n",
      "Epoch 33/50\n",
      "797/797 [==============================] - 21s 26ms/step - loss: 1.0232 - sparse_categorical_accuracy: 0.7480 - val_loss: 1.3515 - val_sparse_categorical_accuracy: 0.6533\n",
      "Epoch 34/50\n",
      "797/797 [==============================] - 21s 26ms/step - loss: 1.0242 - sparse_categorical_accuracy: 0.7409 - val_loss: 1.3407 - val_sparse_categorical_accuracy: 0.6565\n",
      "Epoch 35/50\n",
      "797/797 [==============================] - 20s 25ms/step - loss: 0.9869 - sparse_categorical_accuracy: 0.7551 - val_loss: 1.3511 - val_sparse_categorical_accuracy: 0.6557\n",
      "Epoch 36/50\n",
      "797/797 [==============================] - 21s 26ms/step - loss: 0.9876 - sparse_categorical_accuracy: 0.7500 - val_loss: 1.3343 - val_sparse_categorical_accuracy: 0.6536\n",
      "Epoch 37/50\n",
      "797/797 [==============================] - 20s 26ms/step - loss: 0.9720 - sparse_categorical_accuracy: 0.7609 - val_loss: 1.3306 - val_sparse_categorical_accuracy: 0.6576\n",
      "Epoch 38/50\n",
      "797/797 [==============================] - 21s 26ms/step - loss: 0.9707 - sparse_categorical_accuracy: 0.7598 - val_loss: 1.3239 - val_sparse_categorical_accuracy: 0.6571\n",
      "Epoch 39/50\n",
      "797/797 [==============================] - 21s 26ms/step - loss: 0.9563 - sparse_categorical_accuracy: 0.7622 - val_loss: 1.3240 - val_sparse_categorical_accuracy: 0.6595\n",
      "Epoch 40/50\n",
      "797/797 [==============================] - 21s 26ms/step - loss: 0.9327 - sparse_categorical_accuracy: 0.7702 - val_loss: 1.3180 - val_sparse_categorical_accuracy: 0.6579\n",
      "Epoch 41/50\n",
      "797/797 [==============================] - 21s 26ms/step - loss: 0.9264 - sparse_categorical_accuracy: 0.7709 - val_loss: 1.3091 - val_sparse_categorical_accuracy: 0.6616\n",
      "Epoch 42/50\n",
      "797/797 [==============================] - 21s 26ms/step - loss: 0.9176 - sparse_categorical_accuracy: 0.7746 - val_loss: 1.3032 - val_sparse_categorical_accuracy: 0.6665\n",
      "Epoch 43/50\n",
      "797/797 [==============================] - 20s 26ms/step - loss: 0.9058 - sparse_categorical_accuracy: 0.7755 - val_loss: 1.3150 - val_sparse_categorical_accuracy: 0.6598\n",
      "Epoch 44/50\n",
      "797/797 [==============================] - 20s 25ms/step - loss: 0.8927 - sparse_categorical_accuracy: 0.7813 - val_loss: 1.2929 - val_sparse_categorical_accuracy: 0.6633\n",
      "Epoch 45/50\n",
      "797/797 [==============================] - 20s 25ms/step - loss: 0.8872 - sparse_categorical_accuracy: 0.7853 - val_loss: 1.2948 - val_sparse_categorical_accuracy: 0.6678\n",
      "Epoch 46/50\n",
      "797/797 [==============================] - 20s 26ms/step - loss: 0.8748 - sparse_categorical_accuracy: 0.7869 - val_loss: 1.2891 - val_sparse_categorical_accuracy: 0.6649\n",
      "Epoch 47/50\n",
      "797/797 [==============================] - 20s 26ms/step - loss: 0.8740 - sparse_categorical_accuracy: 0.7822 - val_loss: 1.2979 - val_sparse_categorical_accuracy: 0.6581\n",
      "Epoch 48/50\n",
      "797/797 [==============================] - 20s 26ms/step - loss: 0.8676 - sparse_categorical_accuracy: 0.7835 - val_loss: 1.2846 - val_sparse_categorical_accuracy: 0.6689\n",
      "Epoch 49/50\n",
      "797/797 [==============================] - 21s 26ms/step - loss: 0.8555 - sparse_categorical_accuracy: 0.7873 - val_loss: 1.2918 - val_sparse_categorical_accuracy: 0.6622\n",
      "Epoch 50/50\n",
      "797/797 [==============================] - 21s 26ms/step - loss: 0.8396 - sparse_categorical_accuracy: 0.7965 - val_loss: 1.2831 - val_sparse_categorical_accuracy: 0.6657\n"
     ]
    }
   ],
   "source": [
    "with strategy.scope():    \n",
    "    pretrained_model = tf.keras.applications.VGG19(weights='imagenet', include_top=False ,input_shape=[*IMAGE_SIZE, 3])\n",
    "    pretrained_model.trainable = False # tramsfer learning\n",
    "    \n",
    "    model = tf.keras.Sequential([\n",
    "        pretrained_model,\n",
    "        tf.keras.layers.GlobalAveragePooling2D(),\n",
    "        tf.keras.layers.Dense(104, activation='softmax')\n",
    "    ])\n",
    "        \n",
    "model.compile(\n",
    "    optimizer='adam',\n",
    "    loss = 'sparse_categorical_crossentropy',\n",
    "    metrics=['sparse_categorical_accuracy']\n",
    ")\n",
    "\n",
    "historical = model.fit(training_dataset, \n",
    "          steps_per_epoch=STEPS_PER_EPOCH, \n",
    "          epochs=EPOCHS, \n",
    "          validation_data=validation_dataset)"
   ]
  },
  {
   "cell_type": "code",
   "execution_count": 11,
   "id": "republican-investing",
   "metadata": {
    "execution": {
     "iopub.execute_input": "2021-03-27T12:00:57.067917Z",
     "iopub.status.busy": "2021-03-27T12:00:57.066713Z",
     "iopub.status.idle": "2021-03-27T12:00:57.070465Z",
     "shell.execute_reply": "2021-03-27T12:00:57.069919Z"
    },
    "papermill": {
     "duration": 4.170863,
     "end_time": "2021-03-27T12:00:57.070614",
     "exception": false,
     "start_time": "2021-03-27T12:00:52.899751",
     "status": "completed"
    },
    "tags": []
   },
   "outputs": [],
   "source": [
    "from matplotlib import pyplot as plt\n",
    "def display_training_curves(training, validation, title, subplot):\n",
    "    if subplot%10==1: # set up the subplots on the first call\n",
    "        plt.subplots(figsize=(10,10), facecolor='#F0F0F0')\n",
    "        plt.tight_layout()\n",
    "    ax = plt.subplot(subplot)\n",
    "    ax.set_facecolor('#F8F8F8')\n",
    "    ax.plot(training)\n",
    "    ax.plot(validation)\n",
    "    ax.set_title('model '+ title)\n",
    "    ax.set_ylabel(title)\n",
    "    #ax.set_ylim(0.28,1.05)\n",
    "    ax.set_xlabel('epoch')\n",
    "    ax.legend(['train', 'valid.'])"
   ]
  },
  {
   "cell_type": "code",
   "execution_count": 12,
   "id": "alert-fields",
   "metadata": {
    "execution": {
     "iopub.execute_input": "2021-03-27T12:01:05.346972Z",
     "iopub.status.busy": "2021-03-27T12:01:05.344370Z",
     "iopub.status.idle": "2021-03-27T12:01:05.806859Z",
     "shell.execute_reply": "2021-03-27T12:01:05.807352Z"
    },
    "papermill": {
     "duration": 4.583769,
     "end_time": "2021-03-27T12:01:05.807537",
     "exception": false,
     "start_time": "2021-03-27T12:01:01.223768",
     "status": "completed"
    },
    "tags": []
   },
   "outputs": [
    {
     "data": {
      "image/png": "[encoded data removed]",
      "text/plain": [
       "<Figure size 720x720 with 2 Axes>"
      ]
     },
     "metadata": {},
     "output_type": "display_data"
    }
   ],
   "source": [
    "display_training_curves(\n",
    "    historical.history['loss'],\n",
    "    historical.history['val_loss'],\n",
    "    'loss',\n",
    "    211,\n",
    ")\n",
    "display_training_curves(\n",
    "    historical.history['sparse_categorical_accuracy'],\n",
    "    historical.history['val_sparse_categorical_accuracy'],\n",
    "    'accuracy',\n",
    "    212,\n",
    ")"
   ]
  },
  {
   "cell_type": "code",
   "execution_count": 13,
   "id": "going-composer",
   "metadata": {
    "execution": {
     "iopub.execute_input": "2021-03-27T12:01:14.175865Z",
     "iopub.status.busy": "2021-03-27T12:01:14.175189Z",
     "iopub.status.idle": "2021-03-27T12:01:30.214533Z",
     "shell.execute_reply": "2021-03-27T12:01:30.213515Z"
    },
    "papermill": {
     "duration": 20.202811,
     "end_time": "2021-03-27T12:01:30.214738",
     "exception": false,
     "start_time": "2021-03-27T12:01:10.011927",
     "status": "completed"
    },
    "tags": []
   },
   "outputs": [
    {
     "name": "stdout",
     "output_type": "stream",
     "text": [
      "Computing predictions...\n",
      "             id  label\n",
      "0     252d840db     67\n",
      "1     1c4736dea     28\n",
      "2     c37a6f3e9     81\n",
      "3     00e4f514e    103\n",
      "4     59d1b6146     46\n",
      "...         ...    ...\n",
      "7377  c785abe6f      7\n",
      "7378  9b9c0e574     50\n",
      "7379  e46998f4d     49\n",
      "7380  523df966b    102\n",
      "7381  e86e2a592     62\n",
      "\n",
      "[7382 rows x 2 columns]\n"
     ]
    }
   ],
   "source": [
    "test_ds = get_test_dataset(ordered=True) # since we are splitting the dataset and iterating separately on images and ids, order matters.\n",
    "\n",
    "print('Computing predictions...')\n",
    "test_images_ds = test_ds.map(lambda image, idnum: image)\n",
    "probabilities = model.predict(test_images_ds)\n",
    "predictions = np.argmax(probabilities, axis=-1)\n",
    "\n",
    "test_ids_ds = test_ds.map(lambda image, idnum:idnum).unbatch()\n",
    "test_ids = next(iter(test_ids_ds.batch(NUM_TEST_IMAGES))).numpy().astype('U')\n",
    "\n",
    "submission = pd.DataFrame(test_ids, columns=['id'])\n",
    "submission['label'] = predictions\n",
    "\n",
    "print(submission)\n",
    "\n",
    "# Write the submission file\n",
    "np.savetxt(\n",
    "    'submission.csv',\n",
    "    np.rec.fromarrays([test_ids, predictions]),\n",
    "    fmt=['%s', '%d'],\n",
    "    delimiter=',',\n",
    "    header='id,label',\n",
    "    comments='',\n",
    ")"
   ]
  }
 ],
 "metadata": {
  "kernelspec": {
   "display_name": "Python 3",
   "language": "python",
   "name": "python3"
  },
  "language_info": {
   "codemirror_mode": {
    "name": "ipython",
    "version": 3
   },
   "file_extension": ".py",
   "mimetype": "text/x-python",
   "name": "python",
   "nbconvert_exporter": "python",
   "pygments_lexer": "ipython3",
   "version": "3.7.9"
  },
  "papermill": {
   "default_parameters": {},
   "duration": 1105.042369,
   "end_time": "2021-03-27T12:01:36.558332",
   "environment_variables": {},
   "exception": null,
   "input_path": "__notebook__.ipynb",
   "output_path": "__notebook__.ipynb",
   "parameters": {},
   "start_time": "2021-03-27T11:43:11.515963",
   "version": "2.3.2"
  }
 },
 "nbformat": 4,
 "nbformat_minor": 5
}
